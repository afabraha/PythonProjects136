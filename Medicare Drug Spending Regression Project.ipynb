{
 "cells": [
  {
   "cell_type": "code",
   "execution_count": 17,
   "id": "ccac73b3-3849-41f6-9c09-e10b6a5c9c6f",
   "metadata": {},
   "outputs": [],
   "source": [
    "#Upload file and delete missing rows and columns\n",
    "import pandas as pd\n",
    "Medicare = pd.read_csv(\"C://Users//alfre_g2qn6y7//OneDrive//Documents//Medicare Part D Drug Spending.csv\")\n",
    "Medicare.dropna(inplace=True)"
   ]
  },
  {
   "cell_type": "code",
   "execution_count": 18,
   "id": "fb3b18b4-98d3-4bc6-9dc9-dfced57edaef",
   "metadata": {},
   "outputs": [],
   "source": [
    "#Objective is to predict 2022 total drug spending based on previous years drug spending (2018 - 2021). First, start with Linear Regression model. Import necessary libraries\n",
    "from sklearn.linear_model import LinearRegression\n",
    "from sklearn.model_selection import train_test_split\n",
    "from sklearn.metrics         import mean_squared_error,r2_score"
   ]
  },
  {
   "cell_type": "code",
   "execution_count": 19,
   "id": "4f6baa81-28ed-4681-a942-228e9e6e4126",
   "metadata": {},
   "outputs": [],
   "source": [
    "#Set X to previous years spending and y to target variable (2022 total spending)\n",
    "X = Medicare[[\"Tot_Spndng_2018\",\"Tot_Spndng_2019\",\"Tot_Spndng_2020\",\"Tot_Spndng_2021\"]]\n",
    "y = Medicare[\"Tot_Spndng_2022\"]"
   ]
  },
  {
   "cell_type": "code",
   "execution_count": 20,
   "id": "4c964b21-8ed3-4158-8d80-d4284e2dc4cf",
   "metadata": {},
   "outputs": [],
   "source": [
    "#Split data into training and testing sets, train model, and make predictions\n",
    "X_train,X_test,y_train,y_test = train_test_split(X,y,test_size=0.2,random_state=42)\n",
    "model = LinearRegression()\n",
    "model.fit(X_train,y_train)\n",
    "predictions = model.predict(X_test)\n",
    "\n"
   ]
  },
  {
   "cell_type": "code",
   "execution_count": 21,
   "id": "2bb364c9-a58d-441e-92e5-39ef7905fd21",
   "metadata": {},
   "outputs": [
    {
     "name": "stdout",
     "output_type": "stream",
     "text": [
      "Mean squared error is 768518347812751.0\n",
      "R squared is 0.9884179759828323\n"
     ]
    }
   ],
   "source": [
    "#Evaluate model using mean squared error and r2 score\n",
    "mse = mean_squared_error(y_test,predictions)\n",
    "print(f'Mean squared error is',mse)\n",
    "r2 = r2_score(y_test,predictions)\n",
    "print(f'R squared is',r2)"
   ]
  },
  {
   "cell_type": "code",
   "execution_count": 22,
   "id": "523976c2-935e-4b17-a56a-78b082a2f844",
   "metadata": {},
   "outputs": [
    {
     "name": "stdout",
     "output_type": "stream",
     "text": [
      "Cross Validation Mean R2 is 0.9919048548021591\n"
     ]
    }
   ],
   "source": [
    "#Do cross validation\n",
    "from sklearn.model_selection import cross_val_score\n",
    "cv_scores = cross_val_score(model, X_train, y_train, cv=5, scoring='r2')\n",
    "print(f'Cross Validation Mean R2 is',cv_scores.mean())\n",
    "\n"
   ]
  },
  {
   "cell_type": "code",
   "execution_count": 24,
   "id": "9f7aad93-28fc-48a8-bd7c-6e9a8c127216",
   "metadata": {},
   "outputs": [
    {
     "name": "stdout",
     "output_type": "stream",
     "text": [
      "Mean squared error is 255925458832005.12\n",
      "R squared is 0.9961430526424866\n"
     ]
    }
   ],
   "source": [
    "#Now try Random Forest Regressor and compare to Linear Regression\n",
    "from sklearn.ensemble import RandomForestRegressor\n",
    "model = RandomForestRegressor()\n",
    "model.fit(X_train,y_train)\n",
    "predictions = model.predict(X_test)\n",
    "mse = mean_squared_error(y_test,predictions)\n",
    "print(f'Mean squared error is',mse)\n",
    "r2 = r2_score(y_test,predictions)\n",
    "print(f'R squared is',r2)\n"
   ]
  },
  {
   "cell_type": "code",
   "execution_count": 25,
   "id": "3010ad60-6094-4528-b8b7-4b8e21fb9e4c",
   "metadata": {},
   "outputs": [
    {
     "name": "stdout",
     "output_type": "stream",
     "text": [
      "Cross Validation Mean R2 is 0.9582037711953053\n"
     ]
    }
   ],
   "source": [
    "#Do cross validation\n",
    "from sklearn.model_selection import cross_val_score\n",
    "cv_scores = cross_val_score(model, X_train, y_train, cv=5, scoring='r2')\n",
    "print(f'Cross Validation Mean R2 is',cv_scores.mean())"
   ]
  }
 ],
 "metadata": {
  "kernelspec": {
   "display_name": "Python 3 (ipykernel)",
   "language": "python",
   "name": "python3"
  },
  "language_info": {
   "codemirror_mode": {
    "name": "ipython",
    "version": 3
   },
   "file_extension": ".py",
   "mimetype": "text/x-python",
   "name": "python",
   "nbconvert_exporter": "python",
   "pygments_lexer": "ipython3",
   "version": "3.12.7"
  }
 },
 "nbformat": 4,
 "nbformat_minor": 5
}
